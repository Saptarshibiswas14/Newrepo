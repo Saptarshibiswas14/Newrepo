{
  "nbformat": 4,
  "nbformat_minor": 0,
  "metadata": {
    "colab": {
      "provenance": [],
      "authorship_tag": "ABX9TyOFVOAdeWLWxAb8b038j8OM",
      "include_colab_link": true
    },
    "kernelspec": {
      "name": "python3",
      "display_name": "Python 3"
    },
    "language_info": {
      "name": "python"
    }
  },
  "cells": [
    {
      "cell_type": "markdown",
      "metadata": {
        "id": "view-in-github",
        "colab_type": "text"
      },
      "source": [
        "<a href=\"https://colab.research.google.com/github/Saptarshibiswas14/Newrepo/blob/main/rule_based_bot.ipynb\" target=\"_parent\"><img src=\"https://colab.research.google.com/assets/colab-badge.svg\" alt=\"Open In Colab\"/></a>"
      ]
    },
    {
      "cell_type": "code",
      "execution_count": null,
      "metadata": {
        "id": "FCQ403jbdpph"
      },
      "outputs": [],
      "source": [
        "import re\n",
        "import random"
      ]
    },
    {
      "cell_type": "code",
      "source": [
        "class Rulebot:\n",
        "  ### Potential Negative Responses\n",
        "  negative_responses = (\"no\", \"nope\", \"nah\", \"naw\", \"not a chance\", \"sorry\")\n",
        "  ### Exit Commands\n",
        "  exit_commands = (\"quit\", \"pause\", \"exit\", \"goodbye\", \"bye\", \"later\")\n",
        "  ### Random starter question\n",
        "  random_questions = (\n",
        "      \"Why are you here?\",\n",
        "      \"Are there many humans like you?\",\n",
        "      \"What do you consume for sustenance?\",\n",
        "      \"Is there intelligent life?\"\n",
        "  )\n",
        "\n",
        "  def __init__(self):\n",
        "    self.alienbabble = {'describe_planet_intent': r'.*\\s*your planet.*','answer_why_intent': r'why\\sare.*','about_intellipat': r'.*\\s*intellipaat'}\n",
        "\n",
        "  def greet(self):\n",
        "    self.name = input(\"What is your name?\\n\")\n",
        "    will_help = input(f\"Hi {self.name}, I am Rule-Bot. Will you help me learn about your planet?\\n\")\n",
        "    if will_help in self.negative_responses:\n",
        "      print(\"Ok, have a nice Earth day!\")\n",
        "      return\n",
        "\n",
        "  def make_exit(self, reply):\n",
        "    for command in self.exit_commands:\n",
        "      if reply == command:\n",
        "        print(\"Okay, have a nice Earth day!\")\n",
        "        return True\n",
        "\n",
        "  def match_reply(self, reply):\n",
        "    for key, value in self.alienbabble.items():\n",
        "      intent = key\n",
        "      regex_pattern = value\n",
        "      found_match = re.match(regex_pattern, reply)\n",
        "      if found_match and intent == 'describe_planet_intent':\n",
        "        return self.describe_planet_intent()\n",
        "      if found_match and intent == 'answer_why_intent':\n",
        "        return self.answer_why_intent()\n",
        "      if found_match and intent == 'about_intellipat':\n",
        "        return self.about_intellipat()\n",
        "    if not found_match:\n",
        "      return self.no_match_intent()\n",
        "\n",
        "  def describe_planet_intent(self):\n",
        "    responses = (\"My planet is a utopia of diverse organisms and species.\\n\", \"I am from Opidipus, the capital of the Wayward Galaxies.\\n\")\n",
        "    return random.choice(responses)\n",
        "\n",
        "  def answer_why_intent(self):\n",
        "    responses = (\"I come in peace\\n\", \"I am here to collect data on your planet and its inhabitants\\n\", \"I heard the coffee is good\\n\")\n",
        "    return random.choice(responses)\n",
        "\n",
        "  def about_intellipat(self):\n",
        "    responses = (\"Intellipaat is world's largest professional educational company\\n\", \"Intellipaat will make you learn concepts in the way never leaves you\\n\", \"Intellipaat is where your career and skill grows\\n\")\n",
        "    return random.choice(responses)\n",
        "\n",
        "  def no_match_intent(self):\n",
        "    responses = (\n",
        "        \"Please tell me more.\\n\", \"Tell me more!\\n\", \"Why do you say that?\\n\", \"I see. Can you elaborate?\\n\",\n",
        "        \"Interesting. Can you tell me more?\\n\", \"I see. How do you think?\\n\",\n",
        "        \"Why?\\n\", \"How do you think I feel when you say that?\\n\"\n",
        "    )\n",
        "    return random.choice(responses)\n",
        "\n",
        "AlienBot = Rulebot()\n",
        "AlienBot.greet()"
      ],
      "metadata": {
        "colab": {
          "base_uri": "https://localhost:8080/"
        },
        "id": "kDzchvp5XLGy",
        "outputId": "e912c21a-44eb-4bb8-b2bb-5e5cd622f4bd"
      },
      "execution_count": null,
      "outputs": [
        {
          "name": "stdout",
          "output_type": "stream",
          "text": [
            "What is your name?\n",
            "Saptarshi\n",
            "Hi Saptarshi, I am Rule-Bot. Will you help me learn about your planet?\n",
            "No\n"
          ]
        }
      ]
    },
    {
      "cell_type": "code",
      "metadata": {
        "colab": {
          "base_uri": "https://localhost:8080/"
        },
        "id": "e38645c6",
        "outputId": "4354bdcf-7e70-45e1-c0f1-473672f5ef62"
      },
      "source": [
        "while True:\n",
        "    reply = input(AlienBot.random_questions).lower()\n",
        "    if AlienBot.make_exit(reply):\n",
        "        break\n",
        "    print(AlienBot.match_reply(reply))"
      ],
      "execution_count": null,
      "outputs": [
        {
          "output_type": "stream",
          "name": "stdout",
          "text": [
            "('Why are you here?', 'Are there many humans like you?', 'What do you consume for sustenance?', 'Is there intelligent life?')No\n",
            "Why do you say that?\n",
            "\n",
            "('Why are you here?', 'Are there many humans like you?', 'What do you consume for sustenance?', 'Is there intelligent life?')exit\n",
            "Okay, have a nice Earth day!\n"
          ]
        }
      ]
    }
  ]
}